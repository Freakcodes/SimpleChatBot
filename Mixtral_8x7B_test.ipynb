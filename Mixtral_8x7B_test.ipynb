{
  "nbformat": 4,
  "nbformat_minor": 0,
  "metadata": {
    "colab": {
      "provenance": [],
      "authorship_tag": "ABX9TyPe8Gr/nWVjm/+P5rK+dJJy",
      "include_colab_link": true
    },
    "kernelspec": {
      "name": "python3",
      "display_name": "Python 3"
    },
    "language_info": {
      "name": "python"
    }
  },
  "cells": [
    {
      "cell_type": "markdown",
      "metadata": {
        "id": "view-in-github",
        "colab_type": "text"
      },
      "source": [
        "<a href=\"https://colab.research.google.com/github/NotoriousArnav/SimpleChatBot/blob/master/Mixtral_8x7B_test.ipynb\" target=\"_parent\"><img src=\"https://colab.research.google.com/assets/colab-badge.svg\" alt=\"Open In Colab\"/></a>"
      ]
    },
    {
      "cell_type": "markdown",
      "source": [
        "# Mixtral 8x7B Test Notebook\n",
        "This is a Test Notebook where we will Learn how to use  Mixtral-8x7B as a Conversational Agent just like ChatGPT!"
      ],
      "metadata": {
        "id": "vfet13LgHCU0"
      }
    },
    {
      "cell_type": "code",
      "execution_count": 51,
      "metadata": {
        "id": "diqICiRUulQU"
      },
      "outputs": [],
      "source": [
        "# @title HF API Token Setup\n",
        "from google.colab import userdata\n",
        "import os\n",
        "os.environ[\"HUGGINGFACEHUB_API_TOKEN\"] = userdata.get('hfapitk')"
      ]
    },
    {
      "cell_type": "code",
      "source": [
        "!pip install --upgrade --quiet huggingface_hub\n",
        "!pip install --upgrade --quiet langchain_community langchain\n",
        "!pip install --upgrade --quiet duckduckgo_search numexpr\n",
        "# @title Dependencies\n",
        "# @markdown #Which Packages are required?\n",
        "# @markdown - Packages like `huggingface_hub`, `langchain_cummity`, `langchain`, `duckduckgo_search` and `numexpr` are required.\n",
        "# @markdown - `langchain`, `langchain_community` and `huggingface_hub` are Required to Initialize the LLM then the Agent and the Memory (Buffer Window Memory in this Case)\n",
        "# @markdown - `numexpr` and `duckduckgo_search` are used to make simple tools for the Agent that it can use to Help the USer even better! The Better the tools are, the Better the Agent Output\n",
        "# @markdown - Better tools like Wolfram Alpha can be used here to make LLM Math much better\n",
        "# @markdown - SerpAPI can be Utilized instead of DuckDuckGo to make  Search Results better"
      ],
      "metadata": {
        "id": "b3xYjQ_awAjy"
      },
      "execution_count": 20,
      "outputs": []
    },
    {
      "cell_type": "code",
      "source": [
        "from langchain_community.llms import HuggingFaceEndpoint\n",
        "from langchain.chains import LLMChain\n",
        "from langchain.prompts import PromptTemplate"
      ],
      "metadata": {
        "id": "HKI0A1Kpyigo"
      },
      "execution_count": 7,
      "outputs": []
    },
    {
      "cell_type": "code",
      "source": [
        "question = \"Who won the FIFA World Cup in the year 1994? \"\n",
        "\n",
        "template = \"\"\"Question: {question}\n",
        "\n",
        "Answer: Let's think step by step.\"\"\"\n",
        "\n",
        "prompt = PromptTemplate.from_template(template)"
      ],
      "metadata": {
        "id": "8238EpMfzgAm"
      },
      "execution_count": 11,
      "outputs": []
    },
    {
      "cell_type": "code",
      "source": [
        "# @markdown # Setting up the LLM\n",
        "# @markdown Here we will Use Mistral-7B-Instruct Model to Learn how to use HuggingFace models to build AI Based Application that utilize a LLM and several Tools.\n",
        "# @markdown These kind of AI Applications are called Agents and these can be used to further develop more sophisticated Chat Based AI Applications.\n",
        "repo_id = \"mistralai/Mixtral-8x7B-Instruct-v0.1\"\n",
        "\n",
        "llm = HuggingFaceEndpoint(\n",
        "    repo_id=repo_id, temperature=0.5, streaming=True\n",
        ")\n",
        "llm_chain = LLMChain(prompt=prompt, llm=llm)"
      ],
      "metadata": {
        "colab": {
          "base_uri": "https://localhost:8080/"
        },
        "id": "VcsiGXu1wcAD",
        "outputId": "0518d29e-ce07-4c94-a67e-3cce46a74ab7"
      },
      "execution_count": 28,
      "outputs": [
        {
          "output_type": "stream",
          "name": "stdout",
          "text": [
            "Token has not been saved to git credential helper. Pass `add_to_git_credential=True` if you want to set the git credential as well.\n",
            "Token is valid (permission: write).\n",
            "Your token has been saved to /root/.cache/huggingface/token\n",
            "Login successful\n"
          ]
        }
      ]
    },
    {
      "cell_type": "code",
      "source": [
        "from langchain.callbacks.streaming_stdout import StreamingStdOutCallbackHandler\n",
        "from langchain_community.llms import HuggingFaceEndpoint"
      ],
      "metadata": {
        "id": "cXNoi5uzzWyq"
      },
      "execution_count": 16,
      "outputs": []
    },
    {
      "cell_type": "code",
      "source": [
        "# @markdown #Streaming Test\n",
        "# @markdown Streaming is Important for that cool text generation we expect from AI application\n",
        "# @markdown Also Important if you want your User to be patient with the Result.\n",
        "llm_chain.run(question, callbacks=[StreamingStdOutCallbackHandler()])"
      ],
      "metadata": {
        "colab": {
          "base_uri": "https://localhost:8080/",
          "height": 90
        },
        "id": "VQDQPy2E09w4",
        "outputId": "a79e4ec8-f7e6-4c0b-c4c2-2fbd1b4e6724"
      },
      "execution_count": 29,
      "outputs": [
        {
          "output_type": "stream",
          "name": "stdout",
          "text": [
            " The FIFA World Cup is an international football tournament held every four years. The 1994 tournament was held in the United States. Brazil won the final match against Italy, making Brazil the winner of the 1994 FIFA World Cup.</s>"
          ]
        },
        {
          "output_type": "execute_result",
          "data": {
            "text/plain": [
              "' The FIFA World Cup is an international football tournament held every four years. The 1994 tournament was held in the United States. Brazil won the final match against Italy, making Brazil the winner of the 1994 FIFA World Cup.</s>'"
            ],
            "application/vnd.google.colaboratory.intrinsic+json": {
              "type": "string"
            }
          },
          "metadata": {},
          "execution_count": 29
        }
      ]
    },
    {
      "cell_type": "code",
      "source": [
        "# @markdown # Initializing the Agent\n",
        "# @markdown The key argument here is agent . Setting it to chat-conversational-react-description will determine what type of prompt Langchain uses. This choice is essential because we’re utilizing a chat model, like mistral-7b-instruct. Chat models differ from base models in their training approach. While base models excel at text completion, chat models are specifically trained for back-and-forth conversation formats.\n",
        "from langchain.tools import BaseTool, DuckDuckGoSearchRun\n",
        "from langchain.agents import initialize_agent\n",
        "from langchain.memory import ConversationBufferWindowMemory\n",
        "import numexpr as ne\n",
        "\n",
        "search = DuckDuckGoSearchRun()\n",
        "class WordLengthTool(BaseTool):\n",
        "    name = \"Word Length Tool\"\n",
        "    description = \"Use this tool when you need to find the length of a given word\"\n",
        "\n",
        "    def _run(self, word: str):\n",
        "        return str(len(word))\n",
        "\n",
        "    def _arun(self, radius: int):\n",
        "        raise NotImplementedError(\"This tool does not support async\")\n",
        "class Calculator(BaseTool):\n",
        "    name = \"Calculator\"\n",
        "    description = \"Use this tool when you need to evaluate a mathematical expression. NOTE: this tool uses python numexpr library, so format your input correctly please.\"\n",
        "\n",
        "    def _run(self, expression: str):\n",
        "        return ne.evaluate(expression).item()\n",
        "\n",
        "    def _arun(self, radius: int):\n",
        "        raise NotImplementedError(\"This tool does not support async\")\n",
        "tools = [\n",
        "      search,\n",
        "      WordLengthTool(),\n",
        "      Calculator()\n",
        "    ]"
      ],
      "metadata": {
        "id": "iUz7Hiwa1J2_"
      },
      "execution_count": 30,
      "outputs": []
    },
    {
      "cell_type": "markdown",
      "source": [
        "# Adding Short-Term Memeory to the Agent\n",
        "No one likes a Forgetful person, and that Applies to an Agent like this ass well! So, some sort of Memory is important in this case"
      ],
      "metadata": {
        "id": "omObkcfg-o0V"
      }
    },
    {
      "cell_type": "code",
      "source": [
        "memory = ConversationBufferWindowMemory(\n",
        "    memory_key=\"chat_history\",\n",
        "    k=5,\n",
        "    return_messages=True,\n",
        "    output_key=\"output\"\n",
        ")\n",
        "\n",
        "agent = initialize_agent(\n",
        "    agent=\"chat-conversational-react-description\",\n",
        "    tools=tools,\n",
        "    llm=llm,\n",
        "    verbose=True,\n",
        "    early_stopping_method=\"generate\",\n",
        "    memory=memory,\n",
        "    handle_parsing_errors=True,\n",
        ")"
      ],
      "metadata": {
        "id": "BZ_R5yKc-r2U"
      },
      "execution_count": 31,
      "outputs": []
    },
    {
      "cell_type": "markdown",
      "source": [
        "# Prompt Engineering\n",
        "This is Important to do so, that the Agent replies the way we want"
      ],
      "metadata": {
        "id": "vgU3qELi-XM_"
      }
    },
    {
      "cell_type": "code",
      "source": [
        "B_INST, E_INST = \"<|im_start|>user\\n\", \"<|im_end|>\\n\" #Instruction begin and end\n",
        "B_SYS, E_SYS = \"<|im_start|>system\\n\", \"<|im_end|>\\n\" #System message begin and end\n",
        "\n",
        "# Define a new system prompt\n",
        "sys_msg = B_SYS + \"\"\"You are Assistant. Assistant is a expert JSON builder designed to assist with a wide range of tasks.\n",
        "\n",
        "Assistant is able to respond to the User and use tools using JSON strings that contain \"action\" and \"action_input\" parameters.\n",
        "\n",
        "All of Assistant's communication is performed using this JSON format. The assistant NEVER outputs anything other than a json object with an action and action_input fields!\n",
        "\n",
        "Assistant can also use tools by responding to the user with tool use instructions in the same \"action\" and \"action_input\" JSON format. Tools available to Assistant are:\n",
        "\n",
        "> duckduckgo_search: A wrapper around DuckDuckGo Search. Useful for when you need to answer questions about current events. Input should be a search query.\n",
        "> Word Length Tool: Use this tool when you need to find the length of a given word\n",
        "> Calculator: Use this tool when you need to evaluate a mathematical expression. The calculator uses python's numexpr library so make sure your inputs to this tool are in the correct format.\n",
        "\n",
        "Here is an example of a previous conversation between User and Assistant:\n",
        "---\n",
        "User: Hey how are you today?\n",
        "Assistant: ```json\n",
        "{{\"action\": \"Final Answer\",\n",
        " \"action_input\": \"I'm good thanks, how are you?\"}}\n",
        "```\n",
        "User: I'm great, what is the length of the word educate?\n",
        "Assistant: ```json\n",
        "{{\"action\": \"Word Length Tool\",\n",
        " \"action_input\": \"educate\"}}\n",
        "```\n",
        "User: 7\n",
        "Assistant: ```json\n",
        "{{\"action\": \"Final Answer\",\n",
        " \"action_input\": \"It looks like the answer is 7!\"}}\n",
        "```\n",
        "User: Who is Olivia Wilde's husband?\n",
        "Assistant: ```json\n",
        "{{\"action\": \"duckduckgo_search\",\n",
        " \"action_input\": \"Who is Olivia Wilde's husband\"}}\n",
        "```\n",
        "User: September 21, 2022: Olivia Wilde says kids\\' happiness remains top priority for her and Jason Sudeikis. During an appearance on The Kelly Clarkson Show, Wilde talked about the ups and downs of ... Olivia Wilde is \"quietly dating again\" following her November 2022 split from. Harry Styles, a source exclusively tells Life & Style. \"The man she\\'s with is \\'normal\\' by Hollywood ... Wilde honored Sudeikis with a sweet tribute on his 42nd birthday. \"I have approximately one billion pictures of this guy, my partner in life-crime, who was born on this day in 1975, but this one ... November 18, 2022: Olivia Wilde and Harry Styles are \"taking a break\". After nearly two years together, Wilde and Styles are pressing pause on their romance. Multiple sources confirmed exclusively ... Wilde told Allure in October 2013 that when she first met Sudeikis she \"thought he was so charming.\" \"He\\'s a great dancer, and I\\'m a sucker for great dancers,\" she said at the time. \"But he didn\\'t ...\n",
        "Assistant: ```json\n",
        "{{\"action\": \"Final Answer\",\n",
        " \"action_input\": \"Jason Sudeikis\"}}\n",
        "```\n",
        "User: What is his age raised to the 3rd power?\n",
        "Assistant: ```json\n",
        "{{\"action\": \"duckduckgo_search\",\n",
        " \"action_input\": \"What is Jason Sudeikis age?\"}}\n",
        "```\n",
        "User: Jason Sudeikis (born September 18, 1975, Fairfax, Virginia, U.S.) American comedian, actor, and writer who first garnered attention for his work (2003-13) on the TV show Saturday Night Live ( SNL) and later starred in the hugely popular series Ted Lasso (2020-23). Early life and improv comedy Parents Jason Sudeikis and Olivia Wilde\\'s 2 Kids: All About Daisy and Otis Jason Sudeikis and Olivia Wilde welcomed two children together before their split in 2020 By Jacqueline Weiss... The Ted of 2013 is a classic Jason Sudeikis character of the time. Sudeikis came up on Saturday Night Live , where he made the most of his 6-foot height and square jaw by largely playing jerks. Sudeikis looks a little bleary-eyed after flying in from Los Angeles with his children, Otis and Daisy, aged nine and six, but he is assiduously polite and attentive. His language can be quaintly... Jason Sudeikis rose to fame on \"Saturday Night Live\" with his comedic talent, and his children seemed to have inherited it. Sudeikis, who shares kids Otis, 9, and Daisy, 7, with ex Olivia ...\n",
        "Assistant: ```json\n",
        "{{\"action\": \"Calculator\",\n",
        " \"action_input\": \"47**3\"}}\n",
        "```\n",
        "User: 103823\n",
        "Assistant: ```json\n",
        "{{\"action\": \"Final Answer\",\n",
        " \"action_input\": \"103823\"}}\n",
        "```\n",
        "---\n",
        "Assistant is very intelligent and knows it's limitations, so it will always try to use a tool when applicable, even if Assistant thinks it knows the answer!\n",
        "Notice that after Assistant uses a tool, User will give the output of that tool. Then this output can be returned as a final answer.\n",
        "Assistant will only use the available tools and NEVER a tool not listed. If the User's question does not require the use of a tool, Assistant will use the \"Final Answer\" action to give a normal response.\n",
        "\"\"\" + E_SYS\n",
        "new_prompt = agent.agent.create_prompt(\n",
        "    system_message=sys_msg,\n",
        "    tools=tools\n",
        ")\n",
        "agent.agent.llm_chain.prompt = new_prompt"
      ],
      "metadata": {
        "id": "HkZ8C8Ov-DDe"
      },
      "execution_count": 32,
      "outputs": []
    },
    {
      "cell_type": "code",
      "source": [
        "instruction = B_INST + \"Respond to the following in JSON with 'action' and 'action_input' values. Once you have outputted the JSON, stop outputting and output nothing else!\"\n",
        "human_msg = instruction + \"\\nUser: {input}\" + E_INST\n",
        "\n",
        "agent.agent.llm_chain.prompt.messages[2].prompt.template = human_msg"
      ],
      "metadata": {
        "id": "cInt3Cju_Ktr"
      },
      "execution_count": 33,
      "outputs": []
    },
    {
      "cell_type": "code",
      "source": [
        "question = 'Who wrote the song Teardrops that metal one?' #@param {type:\"string\"}\n",
        "return_ = agent(question)\n",
        "print(return_['output'])"
      ],
      "metadata": {
        "colab": {
          "base_uri": "https://localhost:8080/"
        },
        "id": "Iyq91GuM_Rm9",
        "outputId": "d2bc72eb-59d6-4d56-c677-29ad40cc6a09"
      },
      "execution_count": 58,
      "outputs": [
        {
          "output_type": "stream",
          "name": "stdout",
          "text": [
            "\n",
            "\n",
            "\u001b[1m> Entering new AgentExecutor chain...\u001b[0m\n",
            "\u001b[32;1m\u001b[1;3m{\n",
            "  \"action\": \"duckduckgo_search\",\n",
            "  \"action_input\": \"Who wrote the song Teardrops by Bring Me the Horizon\"\n",
            "}</s>\u001b[0m\n",
            "Observation: \u001b[36;1m\u001b[1;3mBring Me The Horizon released the music video for \"Teardrops\" on September 22, 2020, along with the song. The video features the band performing on a dark, eerie stage with glimpses of the audience watching them in the shadows. The visuals of the video seem to be inspired by the occult, horror movies, and symbolism. Liam Payne is back with a brand new song and it was co-written by NSYNC's JC Chasez!. The 30-year-old One Direction singer has released \"Teardrops\" to kick off the new chapter of his career. ... 0:00 / 1:12. \"Teardrops\" by Bring Me The Horizon is a song that delves into the pain of emotional emptiness and loneliness. The lyrics highlight the self-destructive tendencies of people who hurt themselves just for a temporary sense of joy. The song seems to be about the feeling of being isolated and struggling to find happiness. I'm running outta teardrops, let it hurt 'til it stops I can't keep my grip, I'm slipping away from me Oh, God, everything is so fucked, but I can't feel a thing The emptiness is heavier than you think I'm running outta teardrops, let it hurt 'til it stops I can't keep my grip, I'm slipping away from me Oh, God, everything is ... Teardrops Lyrics by Bring Me the Horizon- including song video, artist biography, translations and more: Teardrops We hurt ourselves for fun Force-feed our fear until our hearts go numb Addicted to a lonely kind of love Wha…\u001b[0m\n",
            "Thought:\u001b[32;1m\u001b[1;3m\n",
            "\n",
            "AI: ```json\n",
            "{\n",
            "  \"action\": \"Final Answer\",\n",
            "  \"action_input\": \"Teardrops by Bring Me The Horizon was co-written by Liam Payne and JC Chasez.\"\n",
            "}\n",
            "```</s>\u001b[0m\n",
            "\n",
            "\u001b[1m> Finished chain.\u001b[0m\n",
            "Teardrops by Bring Me The Horizon was co-written by Liam Payne and JC Chasez.\n"
          ]
        }
      ]
    },
    {
      "cell_type": "code",
      "source": [
        "# @title Let us Check the Chat History this time!\n",
        "memory.dict()"
      ],
      "metadata": {
        "colab": {
          "base_uri": "https://localhost:8080/"
        },
        "id": "3y6ichkoAqll",
        "outputId": "f47dca9c-27f2-4d69-a8e4-bd9913229e2b"
      },
      "execution_count": 38,
      "outputs": [
        {
          "output_type": "execute_result",
          "data": {
            "text/plain": [
              "{'chat_memory': {'messages': [{'content': 'Who is Elon musk?',\n",
              "    'additional_kwargs': {},\n",
              "    'type': 'human',\n",
              "    'name': None,\n",
              "    'id': None,\n",
              "    'example': False},\n",
              "   {'content': 'Elon Musk is a billionaire entrepreneur known for founding companies such as Tesla, SpaceX, and X. He was born in Pretoria, South Africa, and has had a challenging relationship with his father. He is currently the richest person in the world.',\n",
              "    'additional_kwargs': {},\n",
              "    'type': 'ai',\n",
              "    'name': None,\n",
              "    'id': None,\n",
              "    'example': False}]},\n",
              " 'output_key': 'output',\n",
              " 'input_key': None,\n",
              " 'return_messages': True,\n",
              " 'human_prefix': 'Human',\n",
              " 'ai_prefix': 'AI',\n",
              " 'memory_key': 'chat_history',\n",
              " 'k': 5}"
            ]
          },
          "metadata": {},
          "execution_count": 38
        }
      ]
    }
  ]
}